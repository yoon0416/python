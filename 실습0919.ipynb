{
  "nbformat": 4,
  "nbformat_minor": 0,
  "metadata": {
    "colab": {
      "provenance": [],
      "authorship_tag": "ABX9TyN6R8n+HfWr9fK7h7d+bXcc",
      "include_colab_link": true
    },
    "kernelspec": {
      "name": "python3",
      "display_name": "Python 3"
    },
    "language_info": {
      "name": "python"
    }
  },
  "cells": [
    {
      "cell_type": "markdown",
      "metadata": {
        "id": "view-in-github",
        "colab_type": "text"
      },
      "source": [
        "<a href=\"https://colab.research.google.com/github/yoon0416/python/blob/main/%EC%8B%A4%EC%8A%B50919.ipynb\" target=\"_parent\"><img src=\"https://colab.research.google.com/assets/colab-badge.svg\" alt=\"Open In Colab\"/></a>"
      ]
    },
    {
      "cell_type": "markdown",
      "source": [
        "# **파일 입출력**"
      ],
      "metadata": {
        "id": "cC6uMWCQsBBv"
      }
    },
    {
      "cell_type": "markdown",
      "source": [
        "# 1.csv"
      ],
      "metadata": {
        "id": "H9GBv1_evR_2"
      }
    },
    {
      "cell_type": "code",
      "source": [
        "#files 라이브러리 가져오기\n",
        "from google.colab import files\n",
        "\n",
        "\n",
        "#파일 업로드 함수  호출하기\n",
        "f = files.upload()"
      ],
      "metadata": {
        "colab": {
          "base_uri": "https://localhost:8080/",
          "height": 76
        },
        "id": "jcDziSRmvUWG",
        "outputId": "471cc3a3-3d42-4203-f548-6321f311528d"
      },
      "execution_count": null,
      "outputs": [
        {
          "output_type": "display_data",
          "data": {
            "text/plain": [
              "<IPython.core.display.HTML object>"
            ],
            "text/html": [
              "\n",
              "     <input type=\"file\" id=\"files-b6dab4e4-c249-479c-adf1-c3a5e0861e55\" name=\"files[]\" multiple disabled\n",
              "        style=\"border:none\" />\n",
              "     <output id=\"result-b6dab4e4-c249-479c-adf1-c3a5e0861e55\">\n",
              "      Upload widget is only available when the cell has been executed in the\n",
              "      current browser session. Please rerun this cell to enable.\n",
              "      </output>\n",
              "      <script>// Copyright 2017 Google LLC\n",
              "//\n",
              "// Licensed under the Apache License, Version 2.0 (the \"License\");\n",
              "// you may not use this file except in compliance with the License.\n",
              "// You may obtain a copy of the License at\n",
              "//\n",
              "//      http://www.apache.org/licenses/LICENSE-2.0\n",
              "//\n",
              "// Unless required by applicable law or agreed to in writing, software\n",
              "// distributed under the License is distributed on an \"AS IS\" BASIS,\n",
              "// WITHOUT WARRANTIES OR CONDITIONS OF ANY KIND, either express or implied.\n",
              "// See the License for the specific language governing permissions and\n",
              "// limitations under the License.\n",
              "\n",
              "/**\n",
              " * @fileoverview Helpers for google.colab Python module.\n",
              " */\n",
              "(function(scope) {\n",
              "function span(text, styleAttributes = {}) {\n",
              "  const element = document.createElement('span');\n",
              "  element.textContent = text;\n",
              "  for (const key of Object.keys(styleAttributes)) {\n",
              "    element.style[key] = styleAttributes[key];\n",
              "  }\n",
              "  return element;\n",
              "}\n",
              "\n",
              "// Max number of bytes which will be uploaded at a time.\n",
              "const MAX_PAYLOAD_SIZE = 100 * 1024;\n",
              "\n",
              "function _uploadFiles(inputId, outputId) {\n",
              "  const steps = uploadFilesStep(inputId, outputId);\n",
              "  const outputElement = document.getElementById(outputId);\n",
              "  // Cache steps on the outputElement to make it available for the next call\n",
              "  // to uploadFilesContinue from Python.\n",
              "  outputElement.steps = steps;\n",
              "\n",
              "  return _uploadFilesContinue(outputId);\n",
              "}\n",
              "\n",
              "// This is roughly an async generator (not supported in the browser yet),\n",
              "// where there are multiple asynchronous steps and the Python side is going\n",
              "// to poll for completion of each step.\n",
              "// This uses a Promise to block the python side on completion of each step,\n",
              "// then passes the result of the previous step as the input to the next step.\n",
              "function _uploadFilesContinue(outputId) {\n",
              "  const outputElement = document.getElementById(outputId);\n",
              "  const steps = outputElement.steps;\n",
              "\n",
              "  const next = steps.next(outputElement.lastPromiseValue);\n",
              "  return Promise.resolve(next.value.promise).then((value) => {\n",
              "    // Cache the last promise value to make it available to the next\n",
              "    // step of the generator.\n",
              "    outputElement.lastPromiseValue = value;\n",
              "    return next.value.response;\n",
              "  });\n",
              "}\n",
              "\n",
              "/**\n",
              " * Generator function which is called between each async step of the upload\n",
              " * process.\n",
              " * @param {string} inputId Element ID of the input file picker element.\n",
              " * @param {string} outputId Element ID of the output display.\n",
              " * @return {!Iterable<!Object>} Iterable of next steps.\n",
              " */\n",
              "function* uploadFilesStep(inputId, outputId) {\n",
              "  const inputElement = document.getElementById(inputId);\n",
              "  inputElement.disabled = false;\n",
              "\n",
              "  const outputElement = document.getElementById(outputId);\n",
              "  outputElement.innerHTML = '';\n",
              "\n",
              "  const pickedPromise = new Promise((resolve) => {\n",
              "    inputElement.addEventListener('change', (e) => {\n",
              "      resolve(e.target.files);\n",
              "    });\n",
              "  });\n",
              "\n",
              "  const cancel = document.createElement('button');\n",
              "  inputElement.parentElement.appendChild(cancel);\n",
              "  cancel.textContent = 'Cancel upload';\n",
              "  const cancelPromise = new Promise((resolve) => {\n",
              "    cancel.onclick = () => {\n",
              "      resolve(null);\n",
              "    };\n",
              "  });\n",
              "\n",
              "  // Wait for the user to pick the files.\n",
              "  const files = yield {\n",
              "    promise: Promise.race([pickedPromise, cancelPromise]),\n",
              "    response: {\n",
              "      action: 'starting',\n",
              "    }\n",
              "  };\n",
              "\n",
              "  cancel.remove();\n",
              "\n",
              "  // Disable the input element since further picks are not allowed.\n",
              "  inputElement.disabled = true;\n",
              "\n",
              "  if (!files) {\n",
              "    return {\n",
              "      response: {\n",
              "        action: 'complete',\n",
              "      }\n",
              "    };\n",
              "  }\n",
              "\n",
              "  for (const file of files) {\n",
              "    const li = document.createElement('li');\n",
              "    li.append(span(file.name, {fontWeight: 'bold'}));\n",
              "    li.append(span(\n",
              "        `(${file.type || 'n/a'}) - ${file.size} bytes, ` +\n",
              "        `last modified: ${\n",
              "            file.lastModifiedDate ? file.lastModifiedDate.toLocaleDateString() :\n",
              "                                    'n/a'} - `));\n",
              "    const percent = span('0% done');\n",
              "    li.appendChild(percent);\n",
              "\n",
              "    outputElement.appendChild(li);\n",
              "\n",
              "    const fileDataPromise = new Promise((resolve) => {\n",
              "      const reader = new FileReader();\n",
              "      reader.onload = (e) => {\n",
              "        resolve(e.target.result);\n",
              "      };\n",
              "      reader.readAsArrayBuffer(file);\n",
              "    });\n",
              "    // Wait for the data to be ready.\n",
              "    let fileData = yield {\n",
              "      promise: fileDataPromise,\n",
              "      response: {\n",
              "        action: 'continue',\n",
              "      }\n",
              "    };\n",
              "\n",
              "    // Use a chunked sending to avoid message size limits. See b/62115660.\n",
              "    let position = 0;\n",
              "    do {\n",
              "      const length = Math.min(fileData.byteLength - position, MAX_PAYLOAD_SIZE);\n",
              "      const chunk = new Uint8Array(fileData, position, length);\n",
              "      position += length;\n",
              "\n",
              "      const base64 = btoa(String.fromCharCode.apply(null, chunk));\n",
              "      yield {\n",
              "        response: {\n",
              "          action: 'append',\n",
              "          file: file.name,\n",
              "          data: base64,\n",
              "        },\n",
              "      };\n",
              "\n",
              "      let percentDone = fileData.byteLength === 0 ?\n",
              "          100 :\n",
              "          Math.round((position / fileData.byteLength) * 100);\n",
              "      percent.textContent = `${percentDone}% done`;\n",
              "\n",
              "    } while (position < fileData.byteLength);\n",
              "  }\n",
              "\n",
              "  // All done.\n",
              "  yield {\n",
              "    response: {\n",
              "      action: 'complete',\n",
              "    }\n",
              "  };\n",
              "}\n",
              "\n",
              "scope.google = scope.google || {};\n",
              "scope.google.colab = scope.google.colab || {};\n",
              "scope.google.colab._files = {\n",
              "  _uploadFiles,\n",
              "  _uploadFilesContinue,\n",
              "};\n",
              "})(self);\n",
              "</script> "
            ]
          },
          "metadata": {}
        },
        {
          "output_type": "stream",
          "name": "stdout",
          "text": [
            "Saving characters.csv to characters (1).csv\n"
          ]
        }
      ]
    },
    {
      "cell_type": "code",
      "source": [
        "f = open('characters.csv','r',encoding='cp949')\n",
        "\n",
        "#첫번째 인자: 불러올 파일 이름,\n",
        "#두번째 인자: 읽기(r), 쓰기(w),추가하기(a) 권한을 부여하는 옵션\n",
        "#세번째 인자: csv파일을 윈도우 운영체제에서 만들었으면 cp949, 맥 os or 리눅스면 utf-8 입력해야 오류 없이 읽음"
      ],
      "metadata": {
        "id": "5qEtfWTxvzwv"
      },
      "execution_count": null,
      "outputs": []
    },
    {
      "cell_type": "code",
      "source": [
        "import csv\n",
        "\n",
        "rdr = csv.reader(f)\n",
        "# csv를 reader()함수로 읽고 읽은 내용을 변수 rdr에 대입\n",
        "\n",
        "for line in rdr:\n",
        "  print(line)"
      ],
      "metadata": {
        "colab": {
          "base_uri": "https://localhost:8080/"
        },
        "id": "hpjaE0rewRmf",
        "outputId": "778a2363-e774-49ad-f8ce-97ff22f3f359"
      },
      "execution_count": null,
      "outputs": [
        {
          "output_type": "stream",
          "name": "stdout",
          "text": [
            "['ID', '이름', '상징색', '취미', '특징']\n",
            "['001', '뽀로로', '파랑색', '낚시', '펭귄']\n",
            "['002', '에디', '주황색', '과학실험', '사막여우']\n",
            "['003', '크롱', '초록색', '눈싸움', '공룡']\n",
            "['004', '루피', '분홍색', '요리', '비버']\n",
            "['005', '패티', '보라색', '운동', '펭귄']\n"
          ]
        }
      ]
    },
    {
      "cell_type": "code",
      "source": [
        "f = open('characters.csv','r',encoding='cp949')\n",
        "#캐릭터.csv 파일을 불러오고 읽는 권한을 부여할것이다 윈도우에서 만든 csv이기 때문에 cp949\n",
        "\n",
        "rdr = csv.reader(f)\n",
        "\n",
        "for line in rdr:\n",
        "  print(line[1])\n",
        "#두번째 열을 반복문으로 한 행씩 출력\n"
      ],
      "metadata": {
        "colab": {
          "base_uri": "https://localhost:8080/"
        },
        "id": "fvwvFXQJwpQz",
        "outputId": "386952b8-92bf-4191-a204-fb8a9115aa64"
      },
      "execution_count": null,
      "outputs": [
        {
          "output_type": "stream",
          "name": "stdout",
          "text": [
            "이름\n",
            "뽀로로\n",
            "에디\n",
            "크롱\n",
            "루피\n",
            "패티\n"
          ]
        }
      ]
    },
    {
      "cell_type": "code",
      "source": [
        "f = open('characters.csv','r',encoding='cp949')\n",
        "#캐릭터.csv 파일을 불러오고 읽는 권한을 부여할것이다 윈도우에서 만든 csv이기 때문에 cp949\n",
        "\n",
        "rdr = csv.reader(f)\n",
        "\n",
        "for line in rdr:\n",
        "  if line[3] =='요리':\n",
        "    print(line[1])"
      ],
      "metadata": {
        "colab": {
          "base_uri": "https://localhost:8080/"
        },
        "id": "7BKnSX4x-sRT",
        "outputId": "fe89c1af-d9ee-4511-f20c-87cf031f39af"
      },
      "execution_count": null,
      "outputs": [
        {
          "output_type": "stream",
          "name": "stdout",
          "text": [
            "루피\n"
          ]
        }
      ]
    },
    {
      "cell_type": "markdown",
      "source": [
        "# **<연습문제>**\n",
        "내 친구 정보를 csv파일로 만들고 코랩에서 읽고 출력"
      ],
      "metadata": {
        "id": "HqzyfH2y7hSC"
      }
    },
    {
      "cell_type": "code",
      "source": [
        "from google.colab import files\n",
        "\n",
        "f = files.upload()"
      ],
      "metadata": {
        "colab": {
          "base_uri": "https://localhost:8080/",
          "height": 76
        },
        "id": "TFX7otjb7LHj",
        "outputId": "56bd1c6a-c5d3-4cf9-b332-29f6e1da70a8"
      },
      "execution_count": null,
      "outputs": [
        {
          "output_type": "display_data",
          "data": {
            "text/plain": [
              "<IPython.core.display.HTML object>"
            ],
            "text/html": [
              "\n",
              "     <input type=\"file\" id=\"files-ee24094c-7df0-4310-9aa1-fbc0d68f9709\" name=\"files[]\" multiple disabled\n",
              "        style=\"border:none\" />\n",
              "     <output id=\"result-ee24094c-7df0-4310-9aa1-fbc0d68f9709\">\n",
              "      Upload widget is only available when the cell has been executed in the\n",
              "      current browser session. Please rerun this cell to enable.\n",
              "      </output>\n",
              "      <script>// Copyright 2017 Google LLC\n",
              "//\n",
              "// Licensed under the Apache License, Version 2.0 (the \"License\");\n",
              "// you may not use this file except in compliance with the License.\n",
              "// You may obtain a copy of the License at\n",
              "//\n",
              "//      http://www.apache.org/licenses/LICENSE-2.0\n",
              "//\n",
              "// Unless required by applicable law or agreed to in writing, software\n",
              "// distributed under the License is distributed on an \"AS IS\" BASIS,\n",
              "// WITHOUT WARRANTIES OR CONDITIONS OF ANY KIND, either express or implied.\n",
              "// See the License for the specific language governing permissions and\n",
              "// limitations under the License.\n",
              "\n",
              "/**\n",
              " * @fileoverview Helpers for google.colab Python module.\n",
              " */\n",
              "(function(scope) {\n",
              "function span(text, styleAttributes = {}) {\n",
              "  const element = document.createElement('span');\n",
              "  element.textContent = text;\n",
              "  for (const key of Object.keys(styleAttributes)) {\n",
              "    element.style[key] = styleAttributes[key];\n",
              "  }\n",
              "  return element;\n",
              "}\n",
              "\n",
              "// Max number of bytes which will be uploaded at a time.\n",
              "const MAX_PAYLOAD_SIZE = 100 * 1024;\n",
              "\n",
              "function _uploadFiles(inputId, outputId) {\n",
              "  const steps = uploadFilesStep(inputId, outputId);\n",
              "  const outputElement = document.getElementById(outputId);\n",
              "  // Cache steps on the outputElement to make it available for the next call\n",
              "  // to uploadFilesContinue from Python.\n",
              "  outputElement.steps = steps;\n",
              "\n",
              "  return _uploadFilesContinue(outputId);\n",
              "}\n",
              "\n",
              "// This is roughly an async generator (not supported in the browser yet),\n",
              "// where there are multiple asynchronous steps and the Python side is going\n",
              "// to poll for completion of each step.\n",
              "// This uses a Promise to block the python side on completion of each step,\n",
              "// then passes the result of the previous step as the input to the next step.\n",
              "function _uploadFilesContinue(outputId) {\n",
              "  const outputElement = document.getElementById(outputId);\n",
              "  const steps = outputElement.steps;\n",
              "\n",
              "  const next = steps.next(outputElement.lastPromiseValue);\n",
              "  return Promise.resolve(next.value.promise).then((value) => {\n",
              "    // Cache the last promise value to make it available to the next\n",
              "    // step of the generator.\n",
              "    outputElement.lastPromiseValue = value;\n",
              "    return next.value.response;\n",
              "  });\n",
              "}\n",
              "\n",
              "/**\n",
              " * Generator function which is called between each async step of the upload\n",
              " * process.\n",
              " * @param {string} inputId Element ID of the input file picker element.\n",
              " * @param {string} outputId Element ID of the output display.\n",
              " * @return {!Iterable<!Object>} Iterable of next steps.\n",
              " */\n",
              "function* uploadFilesStep(inputId, outputId) {\n",
              "  const inputElement = document.getElementById(inputId);\n",
              "  inputElement.disabled = false;\n",
              "\n",
              "  const outputElement = document.getElementById(outputId);\n",
              "  outputElement.innerHTML = '';\n",
              "\n",
              "  const pickedPromise = new Promise((resolve) => {\n",
              "    inputElement.addEventListener('change', (e) => {\n",
              "      resolve(e.target.files);\n",
              "    });\n",
              "  });\n",
              "\n",
              "  const cancel = document.createElement('button');\n",
              "  inputElement.parentElement.appendChild(cancel);\n",
              "  cancel.textContent = 'Cancel upload';\n",
              "  const cancelPromise = new Promise((resolve) => {\n",
              "    cancel.onclick = () => {\n",
              "      resolve(null);\n",
              "    };\n",
              "  });\n",
              "\n",
              "  // Wait for the user to pick the files.\n",
              "  const files = yield {\n",
              "    promise: Promise.race([pickedPromise, cancelPromise]),\n",
              "    response: {\n",
              "      action: 'starting',\n",
              "    }\n",
              "  };\n",
              "\n",
              "  cancel.remove();\n",
              "\n",
              "  // Disable the input element since further picks are not allowed.\n",
              "  inputElement.disabled = true;\n",
              "\n",
              "  if (!files) {\n",
              "    return {\n",
              "      response: {\n",
              "        action: 'complete',\n",
              "      }\n",
              "    };\n",
              "  }\n",
              "\n",
              "  for (const file of files) {\n",
              "    const li = document.createElement('li');\n",
              "    li.append(span(file.name, {fontWeight: 'bold'}));\n",
              "    li.append(span(\n",
              "        `(${file.type || 'n/a'}) - ${file.size} bytes, ` +\n",
              "        `last modified: ${\n",
              "            file.lastModifiedDate ? file.lastModifiedDate.toLocaleDateString() :\n",
              "                                    'n/a'} - `));\n",
              "    const percent = span('0% done');\n",
              "    li.appendChild(percent);\n",
              "\n",
              "    outputElement.appendChild(li);\n",
              "\n",
              "    const fileDataPromise = new Promise((resolve) => {\n",
              "      const reader = new FileReader();\n",
              "      reader.onload = (e) => {\n",
              "        resolve(e.target.result);\n",
              "      };\n",
              "      reader.readAsArrayBuffer(file);\n",
              "    });\n",
              "    // Wait for the data to be ready.\n",
              "    let fileData = yield {\n",
              "      promise: fileDataPromise,\n",
              "      response: {\n",
              "        action: 'continue',\n",
              "      }\n",
              "    };\n",
              "\n",
              "    // Use a chunked sending to avoid message size limits. See b/62115660.\n",
              "    let position = 0;\n",
              "    do {\n",
              "      const length = Math.min(fileData.byteLength - position, MAX_PAYLOAD_SIZE);\n",
              "      const chunk = new Uint8Array(fileData, position, length);\n",
              "      position += length;\n",
              "\n",
              "      const base64 = btoa(String.fromCharCode.apply(null, chunk));\n",
              "      yield {\n",
              "        response: {\n",
              "          action: 'append',\n",
              "          file: file.name,\n",
              "          data: base64,\n",
              "        },\n",
              "      };\n",
              "\n",
              "      let percentDone = fileData.byteLength === 0 ?\n",
              "          100 :\n",
              "          Math.round((position / fileData.byteLength) * 100);\n",
              "      percent.textContent = `${percentDone}% done`;\n",
              "\n",
              "    } while (position < fileData.byteLength);\n",
              "  }\n",
              "\n",
              "  // All done.\n",
              "  yield {\n",
              "    response: {\n",
              "      action: 'complete',\n",
              "    }\n",
              "  };\n",
              "}\n",
              "\n",
              "scope.google = scope.google || {};\n",
              "scope.google.colab = scope.google.colab || {};\n",
              "scope.google.colab._files = {\n",
              "  _uploadFiles,\n",
              "  _uploadFilesContinue,\n",
              "};\n",
              "})(self);\n",
              "</script> "
            ]
          },
          "metadata": {}
        },
        {
          "output_type": "stream",
          "name": "stdout",
          "text": [
            "Saving fr.csv to fr.csv\n"
          ]
        }
      ]
    },
    {
      "cell_type": "code",
      "source": [
        "f = open('fr.csv','r',encoding='cp949')"
      ],
      "metadata": {
        "id": "xtakkDkH7Rxp"
      },
      "execution_count": null,
      "outputs": []
    },
    {
      "cell_type": "code",
      "source": [
        "import csv\n",
        "\n",
        "rdr = csv.reader(f)\n",
        "# csv를 reader()함수로 읽고 읽은 내용을 변수 rdr에 대입\n",
        "\n",
        "for line in rdr:\n",
        "  print(line)"
      ],
      "metadata": {
        "colab": {
          "base_uri": "https://localhost:8080/"
        },
        "id": "TYkKEgCP7aiM",
        "outputId": "9242f226-1080-47bb-e2e3-f20c7488ad27"
      },
      "execution_count": null,
      "outputs": [
        {
          "output_type": "stream",
          "name": "stdout",
          "text": [
            "['이름', '성별', '나이', '거주지']\n",
            "['이주현', '남성', '23', '인천']\n"
          ]
        }
      ]
    },
    {
      "cell_type": "markdown",
      "source": [
        "</연습문제>"
      ],
      "metadata": {
        "id": "4bsUBaXy7npw"
      }
    },
    {
      "cell_type": "markdown",
      "source": [
        "# **python에서 csv파일 작성**"
      ],
      "metadata": {
        "id": "hw1oD9OZ8C7R"
      }
    },
    {
      "cell_type": "code",
      "source": [
        "import csv\n",
        "\n",
        "f = open('write.csv','w',encoding='cp949',newline='')\n",
        "#빈파일 불러오기, 쓰기권한 옵션, 'newline ='은 데이터를 쓸 때 임의로 행을 바꾸지 않게 하는 옵션\n",
        "\n",
        "wr = csv.writer(f)\n",
        "#csv.writer() 함수를 호출하여 wr변수에 csv파일 작성할 준비\n",
        "\n",
        "wr.writerow(['ID','이름','상징색','취미','특징'])\n",
        "wr.writerow(['001', '뽀로로', '파랑색', '낚시', '펭귄'])\n",
        "wr.writerow(['002', '에디', '주황색', '과학실험', '사막여우'])\n",
        "wr.writerow(['003', '크롱', '초록색', '눈싸움', '공룡'])\n",
        "wr.writerow(['004', '루피', '분홍색', '요리', '비버'])\n",
        "wr.writerow(['005', '패티', '보라색', '운동', '펭귄'])\n",
        "#writerrow()함수를 호출 행별로 데이터 작성\n",
        "\n",
        "f.close()"
      ],
      "metadata": {
        "id": "GgVqc_y84wSr"
      },
      "execution_count": null,
      "outputs": []
    },
    {
      "cell_type": "code",
      "source": [
        "f = open('write.csv','r',encoding='cp949')"
      ],
      "metadata": {
        "id": "AeHhK1RW-fwJ"
      },
      "execution_count": null,
      "outputs": []
    },
    {
      "cell_type": "code",
      "source": [
        "import csv\n",
        "\n",
        "rdr = csv.reader(f)\n",
        "\n",
        "for line in rdr:\n",
        "  print(line)"
      ],
      "metadata": {
        "colab": {
          "base_uri": "https://localhost:8080/"
        },
        "id": "wT6CjRv6-bU6",
        "outputId": "727f79fd-fb68-4dec-d7e5-becb2a65c06c"
      },
      "execution_count": null,
      "outputs": [
        {
          "output_type": "stream",
          "name": "stdout",
          "text": [
            "['ID', '이름', '상징색', '취미', '특징']\n",
            "['001', '뽀로로', '파랑색', '낚시', '펭귄']\n",
            "['002', '에디', '주황색', '과학실험', '사막여우']\n",
            "['003', '크롱', '초록색', '눈싸움', '공룡']\n",
            "['004', '루피', '분홍색', '요리', '비버']\n",
            "['005', '패티', '보라색', '운동', '펭귄']\n"
          ]
        }
      ]
    },
    {
      "cell_type": "markdown",
      "source": [
        "**데이터 추가하기**"
      ],
      "metadata": {
        "id": "k02NMaQD8oaZ"
      }
    },
    {
      "cell_type": "code",
      "source": [
        "f = open('write.csv','a',encoding='cp949',newline='')\n",
        "#write.csv 열고, 추가하기(a)권한 부여, 윈도우라 cp949, 임의로 행 바꾸지 않게 newline\n",
        "\n",
        "wr = csv.writer(f)\n",
        "#csv.writer() 함수를 호출하여 wr변수에 csv파일 작성할 준비\n",
        "\n",
        "wr.writerow(['006','포비','흰색','춤','북극곰'])\n",
        "#데이터 추가하기\n",
        "\n",
        "f.close()"
      ],
      "metadata": {
        "id": "umnZOsWs9MhL"
      },
      "execution_count": null,
      "outputs": []
    },
    {
      "cell_type": "code",
      "source": [
        "f = open('write.csv','r',encoding='cp949')"
      ],
      "metadata": {
        "id": "-dbalmzt-UG8"
      },
      "execution_count": null,
      "outputs": []
    },
    {
      "cell_type": "code",
      "source": [
        "import csv\n",
        "\n",
        "rdr = csv.reader(f)\n",
        "\n",
        "for line in rdr:\n",
        "  print(line)"
      ],
      "metadata": {
        "colab": {
          "base_uri": "https://localhost:8080/"
        },
        "id": "jX3uyMFs-NiJ",
        "outputId": "6ee93d37-623b-4af7-bcb4-863cbae734b6"
      },
      "execution_count": null,
      "outputs": [
        {
          "output_type": "stream",
          "name": "stdout",
          "text": [
            "['ID', '이름', '상징색', '취미', '특징']\n",
            "['001', '뽀로로', '파랑색', '낚시', '펭귄']\n",
            "['002', '에디', '주황색', '과학실험', '사막여우']\n",
            "['003', '크롱', '초록색', '눈싸움', '공룡']\n",
            "['004', '루피', '분홍색', '요리', '비버']\n",
            "['005', '패티', '보라색', '운동', '펭귄']\n",
            "['006', '포비', '흰색', '춤', '북극곰']\n"
          ]
        }
      ]
    },
    {
      "cell_type": "markdown",
      "source": [
        "# **기상 데이터 수집**"
      ],
      "metadata": {
        "id": "BUD-SVNFHrAr"
      }
    },
    {
      "cell_type": "code",
      "source": [
        "import csv\n",
        "\n",
        "f = open('weather.csv','w',encoding='cp949',newline='')\n",
        "#빈파일 불러오기, 쓰기권한 옵션, 'newline ='은 데이터를 쓸 때 임의로 행을 바꾸지 않게 하는 옵션\n",
        "\n",
        "wr = csv.writer(f)\n",
        "#csv.writer() 함수를 호출하여 wr변수에 csv파일 작성할 준비\n",
        "\n",
        "wr.writerow(['날짜','요일','날씨','최저기온','최고기온','강수량'])\n",
        "wr.writerow(['23230101','월','맑음','-4.3','3.8',0])\n",
        "wr.writerow(['23230102','화','맑음','-7.4','0.4',0])\n",
        "wr.writerow(['23230103','수','맑음','-9.0','0.6',0])\n",
        "#writerrow()함수를 호출 행별로 데이터 작성\n",
        "\n",
        "f.close()"
      ],
      "metadata": {
        "id": "hwc80vwdHqjj"
      },
      "execution_count": null,
      "outputs": []
    },
    {
      "cell_type": "code",
      "source": [
        "import csv\n",
        "\n",
        "f = open('weather.csv','r',encoding='cp949')\n",
        "\n",
        "rdr = csv.reader(f)\n",
        "\n",
        "for line in rdr:\n",
        "  print(line[3])"
      ],
      "metadata": {
        "colab": {
          "base_uri": "https://localhost:8080/"
        },
        "id": "fix5YPneISkr",
        "outputId": "9f080866-69cc-4ba2-ff3c-611d2fc9f7db"
      },
      "execution_count": null,
      "outputs": [
        {
          "output_type": "stream",
          "name": "stdout",
          "text": [
            "최저기온\n",
            "-4.3\n",
            "-7.4\n",
            "-9.0\n"
          ]
        }
      ]
    },
    {
      "cell_type": "code",
      "source": [
        "import csv\n",
        "\n",
        "f = open('weather.csv', 'r', encoding='cp949')  #빈파일 불러오기, 읽기권한 옵션\n",
        "rdr = csv.reader(f) # csv를 reader()함수로 읽고 읽은 내용을 변수 rdr에 대입\n",
        "\n",
        "def de_fmax():\n",
        "    max = -99  # 최대값 구하기 위해 초기화\n",
        "\n",
        "    for i in rdr: # i 선언하고 rdr에서 값 가져온걸로 반복시작\n",
        "        if i[0] == '날짜':  # 맨 위에 건너뛰기\n",
        "            continue\n",
        "\n",
        "        if i[3] != '':  # 값이 있을 때만 처리\n",
        "            a = float(i[3]) #a에 기온데이터 소수로 대입\n",
        "            if a > max:  # 기온이 max보다 크면\n",
        "                max = a  # max에 기온 대입\n",
        "\n",
        "    return max\n",
        "\n",
        "print(f'최고기온: {de_fmax()}')  # 최고기온 출력\n"
      ],
      "metadata": {
        "colab": {
          "base_uri": "https://localhost:8080/"
        },
        "id": "K5zfSdmuJBl0",
        "outputId": "43c798ad-7172-4116-fce1-197bd4e47505"
      },
      "execution_count": null,
      "outputs": [
        {
          "output_type": "stream",
          "name": "stdout",
          "text": [
            "최고기온: -4.3\n"
          ]
        }
      ]
    },
    {
      "cell_type": "code",
      "source": [
        "import csv\n",
        "\n",
        "f = open('weather.csv', 'r', encoding='cp949')\n",
        "rdr = csv.reader(f)\n",
        "\n",
        "def de_fmin():\n",
        "\n",
        "    min = 99  # 최저값 구하기 위해 초기화\n",
        "\n",
        "    for i in rdr:\n",
        "        if i[0] == '날짜':\n",
        "            continue\n",
        "\n",
        "        if i[3] != '':  # 값이 비어 있지 않을 때만 처리\n",
        "            b = float(i[3])\n",
        "            if b < min:\n",
        "                min = b\n",
        "\n",
        "    return min\n",
        "\n",
        "print(f'최저기온: {de_fmin()}')\n"
      ],
      "metadata": {
        "colab": {
          "base_uri": "https://localhost:8080/"
        },
        "id": "0uBG4TdVjNUc",
        "outputId": "7367b4e3-898c-4afa-a7e7-d66f3fed321d"
      },
      "execution_count": null,
      "outputs": [
        {
          "output_type": "stream",
          "name": "stdout",
          "text": [
            "최저기온: -9.0\n"
          ]
        }
      ]
    },
    {
      "cell_type": "code",
      "source": [
        "f.close()"
      ],
      "metadata": {
        "id": "FgwR0Qgh2840"
      },
      "execution_count": null,
      "outputs": []
    }
  ]
}