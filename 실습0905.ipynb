{
  "nbformat": 4,
  "nbformat_minor": 0,
  "metadata": {
    "colab": {
      "provenance": [],
      "authorship_tag": "ABX9TyN7Sxt0r0volf5sSRWyO+b2",
      "include_colab_link": true
    },
    "kernelspec": {
      "name": "python3",
      "display_name": "Python 3"
    },
    "language_info": {
      "name": "python"
    }
  },
  "cells": [
    {
      "cell_type": "markdown",
      "metadata": {
        "id": "view-in-github",
        "colab_type": "text"
      },
      "source": [
        "<a href=\"https://colab.research.google.com/github/yoon0416/python/blob/main/%EC%8B%A4%EC%8A%B50905.ipynb\" target=\"_parent\"><img src=\"https://colab.research.google.com/assets/colab-badge.svg\" alt=\"Open In Colab\"/></a>"
      ]
    },
    {
      "cell_type": "markdown",
      "source": [
        "## **오늘의 실습**"
      ],
      "metadata": {
        "id": "gR91VjiOoYWt"
      }
    },
    {
      "cell_type": "code",
      "source": [
        "a=2\n",
        "b=3\n",
        "print(a+b)"
      ],
      "metadata": {
        "colab": {
          "base_uri": "https://localhost:8080/"
        },
        "id": "yQhfDpTWoqcF",
        "outputId": "89907538-ff91-4275-a19d-1a7fd34a7671"
      },
      "execution_count": null,
      "outputs": [
        {
          "output_type": "stream",
          "name": "stdout",
          "text": [
            "5\n"
          ]
        }
      ]
    },
    {
      "cell_type": "code",
      "source": [
        "c= 5\n",
        "d = 7\n",
        "print(c*d)"
      ],
      "metadata": {
        "colab": {
          "base_uri": "https://localhost:8080/"
        },
        "id": "DYHL9QMfoCME",
        "outputId": "8a4037f2-b0e6-4bb8-830a-dfd6d37ffdb8"
      },
      "execution_count": null,
      "outputs": [
        {
          "output_type": "stream",
          "name": "stdout",
          "text": [
            "35\n"
          ]
        }
      ]
    },
    {
      "cell_type": "code",
      "source": [
        "print(a+b+c+d)"
      ],
      "metadata": {
        "colab": {
          "base_uri": "https://localhost:8080/"
        },
        "id": "P0ThdHbzo2PW",
        "outputId": "0a8321a3-233e-4f5b-8b44-8fa0e475df90"
      },
      "execution_count": null,
      "outputs": [
        {
          "output_type": "stream",
          "name": "stdout",
          "text": [
            "17\n"
          ]
        }
      ]
    },
    {
      "cell_type": "code",
      "source": [
        "name = \"뉴진스\"\n",
        "print(name)\n",
        "\n",
        "name2 = \"화이팅\"\n",
        "print(name2)"
      ],
      "metadata": {
        "colab": {
          "base_uri": "https://localhost:8080/"
        },
        "id": "a0dSpYIwrVO8",
        "outputId": "a7a25291-7807-4a4e-afc9-d7320fec5973"
      },
      "execution_count": null,
      "outputs": [
        {
          "output_type": "stream",
          "name": "stdout",
          "text": [
            "뉴진스\n",
            "화이팅\n"
          ]
        }
      ]
    },
    {
      "cell_type": "code",
      "source": [
        "#input 함수\n",
        "userdata = input(\"데이터를 입력하세요\")\n",
        "userdata = float(userdata)\n",
        "type(userdata)\n",
        "print(userdata+1)"
      ],
      "metadata": {
        "colab": {
          "base_uri": "https://localhost:8080/"
        },
        "id": "mERyLKM1zNMW",
        "outputId": "20f2ce48-b151-40cb-8bdd-d7ecb60bec75"
      },
      "execution_count": null,
      "outputs": [
        {
          "output_type": "stream",
          "name": "stdout",
          "text": [
            "데이터를 입력하세요3.14\n",
            "4.140000000000001\n"
          ]
        }
      ]
    },
    {
      "cell_type": "code",
      "source": [
        "a = int(input(\"숫자 1 입력\"))\n",
        "b = int(input(\"숫자 2 입력\"))\n",
        "result = a+b\n",
        "print(\"두 수의 합은 \",result)"
      ],
      "metadata": {
        "colab": {
          "base_uri": "https://localhost:8080/"
        },
        "id": "zE2ML-i51wz7",
        "outputId": "1a96deee-016a-4ed9-856a-8e4635b6e505"
      },
      "execution_count": null,
      "outputs": [
        {
          "output_type": "stream",
          "name": "stdout",
          "text": [
            "숫자 1 입력3\n",
            "숫자 2 입력4\n",
            "두 수의 합은  7\n"
          ]
        }
      ]
    },
    {
      "cell_type": "code",
      "source": [
        "kor = int(input(\"국어 점수 입력\"))\n",
        "eng = int(input(\"영어 점수 입력\"))\n",
        "math = int(input(\"수학 점수 입력\"))\n",
        "print(\"총점: \",(kor+eng+math))\n",
        "print(\"평균: \",round(((kor+eng+math)/3),2))"
      ],
      "metadata": {
        "colab": {
          "base_uri": "https://localhost:8080/"
        },
        "id": "3qjh4Ocu2xop",
        "outputId": "4d89953e-d30c-4024-fe4c-cf8caf15d2f7"
      },
      "execution_count": null,
      "outputs": [
        {
          "output_type": "stream",
          "name": "stdout",
          "text": [
            "국어 점수 입력99\n",
            "영어 점수 입력83\n",
            "수학 점수 입력72\n",
            "총점:  254\n",
            "평균:  84.67\n"
          ]
        }
      ]
    },
    {
      "cell_type": "markdown",
      "source": [
        "**조건문**"
      ],
      "metadata": {
        "id": "PNiDk3RC3-Vy"
      }
    },
    {
      "cell_type": "code",
      "source": [
        "num = int(input(\"숫자를 입력하세요\\n\"))\n",
        "if num>80:\n",
        "  print(\"합격입니다\")\n",
        "else:\n",
        "  print(\"불합격\")"
      ],
      "metadata": {
        "colab": {
          "base_uri": "https://localhost:8080/"
        },
        "id": "J7Bx1p6X4D8V",
        "outputId": "dd3c0bf2-1234-4db8-d3fd-06735a56a33f"
      },
      "execution_count": null,
      "outputs": [
        {
          "output_type": "stream",
          "name": "stdout",
          "text": [
            "숫자를 입력하세요\n",
            "88\n",
            "합격입니다\n"
          ]
        }
      ]
    },
    {
      "cell_type": "code",
      "source": [
        "score = int(input(\"점수를 입력하세요\\n\"))\n",
        "if score>=90:\n",
        "  print(\"A\")\n",
        "elif score>=80:\n",
        "  print(\"B\")\n",
        "elif score>=70:\n",
        "  print(\"C\")\n",
        "elif score>=60:\n",
        "  print(\"D\")\n",
        "else:\n",
        "  print(\"F\")"
      ],
      "metadata": {
        "colab": {
          "base_uri": "https://localhost:8080/"
        },
        "id": "YPZCpc8z5qwN",
        "outputId": "b69c78bf-01b1-4481-c880-d2e11b10531c"
      },
      "execution_count": null,
      "outputs": [
        {
          "output_type": "stream",
          "name": "stdout",
          "text": [
            "점수를 입력하세요\n",
            "77\n",
            "C\n"
          ]
        }
      ]
    },
    {
      "cell_type": "code",
      "source": [
        "a = int(input(\"키를 입력하세요\"))\n",
        "if a>=120 and a<=160:\n",
        "  print(\"탑승 가능\")\n",
        "\n",
        "else:\n",
        "  print(\"탑승 불가능\")"
      ],
      "metadata": {
        "colab": {
          "base_uri": "https://localhost:8080/"
        },
        "id": "M53vyCeH7Urb",
        "outputId": "5de91ab5-cfee-4c26-de64-88ec680eca85"
      },
      "execution_count": null,
      "outputs": [
        {
          "output_type": "stream",
          "name": "stdout",
          "text": [
            "키를 입력하세요121\n",
            "탑승 가능\n"
          ]
        }
      ]
    },
    {
      "cell_type": "markdown",
      "source": [
        "**반복문**"
      ],
      "metadata": {
        "id": "1rUsMwpV_ygJ"
      }
    },
    {
      "cell_type": "code",
      "source": [
        "for i in range(10,0,-1):\n",
        "  print(i)"
      ],
      "metadata": {
        "colab": {
          "base_uri": "https://localhost:8080/"
        },
        "id": "SjTxd_cx_wNA",
        "outputId": "90e8cacc-6ff3-4822-dece-612b62425267"
      },
      "execution_count": null,
      "outputs": [
        {
          "output_type": "stream",
          "name": "stdout",
          "text": [
            "10\n",
            "9\n",
            "8\n",
            "7\n",
            "6\n",
            "5\n",
            "4\n",
            "3\n",
            "2\n",
            "1\n"
          ]
        }
      ]
    },
    {
      "cell_type": "code",
      "source": [
        "for num in range(1,11,1):\n",
        "  print(\"num= \",num, end=\" \")\n",
        "  if num % 3 == 0:\n",
        "    print(\"3의 배수\")\n",
        "  else:\n",
        "    print(\"  \")"
      ],
      "metadata": {
        "colab": {
          "base_uri": "https://localhost:8080/"
        },
        "id": "Pr8JDAuhA_z_",
        "outputId": "f64207d5-ba17-455a-896d-1488b19a1a64"
      },
      "execution_count": null,
      "outputs": [
        {
          "output_type": "stream",
          "name": "stdout",
          "text": [
            "num=  1   \n",
            "num=  2   \n",
            "num=  3 3의 배수\n",
            "num=  4   \n",
            "num=  5   \n",
            "num=  6 3의 배수\n",
            "num=  7   \n",
            "num=  8   \n",
            "num=  9 3의 배수\n",
            "num=  10   \n"
          ]
        }
      ]
    },
    {
      "cell_type": "code",
      "source": [
        "num = 1\n",
        "sum = 0\n",
        "\n",
        "while num < 11:\n",
        "  sum +=num\n",
        "  if sum>= 30:\n",
        "    print(\"num: \",num)\n",
        "    break\n",
        "  num += 1 # break 문 아래로 이동"
      ],
      "metadata": {
        "colab": {
          "base_uri": "https://localhost:8080/"
        },
        "id": "7tVN93AoClGo",
        "outputId": "14608c37-0bfe-420c-f38a-c4588e5601f1"
      },
      "execution_count": null,
      "outputs": [
        {
          "output_type": "stream",
          "name": "stdout",
          "text": [
            "num:  8\n"
          ]
        }
      ]
    },
    {
      "cell_type": "code",
      "source": [
        "for i in range(3,4,1):\n",
        "  for j in range(1,10,1):\n",
        "    print(i,\"*\",j,\"=\",i*j)"
      ],
      "metadata": {
        "colab": {
          "base_uri": "https://localhost:8080/"
        },
        "id": "pDTatSDoAQbp",
        "outputId": "91bdb472-23ba-4e57-8083-e42ef28fcfde"
      },
      "execution_count": null,
      "outputs": [
        {
          "output_type": "stream",
          "name": "stdout",
          "text": [
            "3 * 1 = 3\n",
            "3 * 2 = 6\n",
            "3 * 3 = 9\n",
            "3 * 4 = 12\n",
            "3 * 5 = 15\n",
            "3 * 6 = 18\n",
            "3 * 7 = 21\n",
            "3 * 8 = 24\n",
            "3 * 9 = 27\n"
          ]
        }
      ]
    },
    {
      "cell_type": "code",
      "source": [
        "height = int(input(\"트리의 높이를 입력하세요: \"))\n",
        "\n",
        "for i in range(1, height + 1):\n",
        "\n",
        "    for j in range(height - i):\n",
        "        print(\" \", end=\"\")\n",
        "\n",
        "    for j in range(2 * i - 1):\n",
        "        print(\"*\", end=\"\")\n",
        "    print()"
      ],
      "metadata": {
        "id": "uxlZ9URKF25K",
        "outputId": "b30f3201-5dd3-4e1f-bf16-3db39a571705",
        "colab": {
          "base_uri": "https://localhost:8080/"
        }
      },
      "execution_count": null,
      "outputs": [
        {
          "output_type": "stream",
          "name": "stdout",
          "text": [
            "트리의 높이를 입력하세요: 5\n",
            "    *\n",
            "   ***\n",
            "  *****\n",
            " *******\n",
            "*********\n"
          ]
        }
      ]
    },
    {
      "cell_type": "code",
      "source": [
        "for i in range(2,5,1):\n",
        "  for j in range(1,10,1):\n",
        "    print(i,\"*\",j,\"=\",i*j)\n",
        "  print(\"-----------------\")"
      ],
      "metadata": {
        "colab": {
          "base_uri": "https://localhost:8080/"
        },
        "id": "e4NmKMbrFSXK",
        "outputId": "e7b9fe00-14d3-4c8c-9a38-f6609505114c"
      },
      "execution_count": null,
      "outputs": [
        {
          "output_type": "stream",
          "name": "stdout",
          "text": [
            "2 * 1 = 2\n",
            "2 * 2 = 4\n",
            "2 * 3 = 6\n",
            "2 * 4 = 8\n",
            "2 * 5 = 10\n",
            "2 * 6 = 12\n",
            "2 * 7 = 14\n",
            "2 * 8 = 16\n",
            "2 * 9 = 18\n",
            "-----------------\n",
            "3 * 1 = 3\n",
            "3 * 2 = 6\n",
            "3 * 3 = 9\n",
            "3 * 4 = 12\n",
            "3 * 5 = 15\n",
            "3 * 6 = 18\n",
            "3 * 7 = 21\n",
            "3 * 8 = 24\n",
            "3 * 9 = 27\n",
            "-----------------\n",
            "4 * 1 = 4\n",
            "4 * 2 = 8\n",
            "4 * 3 = 12\n",
            "4 * 4 = 16\n",
            "4 * 5 = 20\n",
            "4 * 6 = 24\n",
            "4 * 7 = 28\n",
            "4 * 8 = 32\n",
            "4 * 9 = 36\n",
            "-----------------\n"
          ]
        }
      ]
    }
  ]
}