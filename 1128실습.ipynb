{
  "nbformat": 4,
  "nbformat_minor": 0,
  "metadata": {
    "colab": {
      "provenance": [],
      "authorship_tag": "ABX9TyOzIWRB4ckjam3URRnxJDYF",
      "include_colab_link": true
    },
    "kernelspec": {
      "name": "python3",
      "display_name": "Python 3"
    },
    "language_info": {
      "name": "python"
    }
  },
  "cells": [
    {
      "cell_type": "markdown",
      "metadata": {
        "id": "view-in-github",
        "colab_type": "text"
      },
      "source": [
        "<a href=\"https://colab.research.google.com/github/yoon0416/python/blob/main/1128%EC%8B%A4%EC%8A%B5.ipynb\" target=\"_parent\"><img src=\"https://colab.research.google.com/assets/colab-badge.svg\" alt=\"Open In Colab\"/></a>"
      ]
    },
    {
      "cell_type": "markdown",
      "source": [
        "# **로지스틱 회귀분석**\n",
        "- 로지스틱 회귀분석의 종속변수는 0~1사이의 값을 지님\n",
        "- 로지스틱 회귀분석의 종속변수는 범위에 제한이 있음\n",
        "- 어떤 사건이 발생하면 종속변수가 1, 발생하지 않으면 종속변수가 0이다"
      ],
      "metadata": {
        "id": "EATWJ-p7MHo8"
      }
    },
    {
      "cell_type": "markdown",
      "source": [
        "![다운로드.png](data:image/png;base64,iVBORw0KGgoAAAANSUhEUgAAAQcAAACQCAMAAAAyYV7aAAABR1BMVEX////w8PCxsbHGxsbb29vo6Oi2traHvf+dw//8/Pz5+fn29vboi4vz8/PDw8PAwMCfn5/i4uKCuP+pqanQ0NCRkZGZmZmCgoL99/d0dHSLi4v65+f219dsbGzd6v/yxMRWVlYAZP8ahP9fX1/y9//MAADVAAAAcv/wu7vtqqrrnZ3439++AACtzP8Aav////nm8f/L4f9ZnP8kJCQbGxsxMTFAQEAAAACnhLOgkMSVqeTJJjbHLk2DxP+yTXPGBiVJg896RoabmNCqtsqDpdyV1P/HABKbwPCjZZitb5y71f+odqTcUVDga2nkfn3ZP0D/4tDrZVQAStYvWtZ9rv9apf85jf8AUf85fv8AW/9vGp+hUZFihLUAQLYAUbcVa7dtUpOTK3VbYKIudbeaG2aDc552kbeIqL3Qn5bMuLi6UVG/bGxjHh5YunGkAAALAklEQVR4nO2d+XujuBnHJZAYC8wVCTCHQxJPEmNPzp1Ou1e3u+3OtukmvZJ0emyv7T39/3+uBE7GVya2EcTJ8nmeGAwCpK+k930lMAGgoaGhoaGhoaGhoaFaCEMqgADoNiD8k93uMPkfFH96vpvhB8tidaCiUNDiBXTUHsiX1PFA4AOzFylCnjDwbYV1Xc30bexoivLAea4C1xOfJLQtXn4caj0VuFvdIFB8ByvAoVwiilVbc31F1dyuwqDCrIfOtGTswPP8QBVVbltItAcfiC+OAyhwfaAEVHQOXcO67QICqekrkPUCx33onEuEBV5eHC23Azbi5VUA6dmMGwdiAYL4FsO5Ta4XfQfoCKEA6Q+TZ/ngbmEGzXDC6BFbEwbRDTSAsWgJnjZ7LMFPpj14dIFET6bS76RnTm/RuHkoWoYL+NLlf0S1oWGKlVEaaN+u5vB9BoI338jEvkdBb3oD0SykYoWbCl2hmkIo8XmfcCwE2Qfdbp7EtLl9gBGlTPVQcRR2VMgdih1iG1FmS8ygQRgt+h5zECbMZSbQIgwgG1UgY8wYz3/4EmPsYG7ZPGpA4EBefQpPYgE4U+W3zMjAL+x3KaMKL4veYzb7HhWOww5ppLKtUCSAihZgpluKCgHaCnKrgXoIB6qhcA0s7Hps9rSLg2/blev4XFfRQHNsiqGKLAjtiLdUbZSM9rpQoQ7qMpb3XtRVPR04ngFgLyA25daPGh6wHebf2Uy78zY6PQcGQOPO0XhFVdfmeuJXDoVQAWqeAGouwrjra4SYPD9A+NdXEQ0iFAQaUryAEr1Ez7DQu3UVMYwDJa9wNQpxFIUqAaLAzsio24HvQKBQ3hgdJK4aOr7jdxk1QEQQ2FIcYnZDB2AfOHMuluPPi4pdhQWA4cI5UICDIlsMcn21QghgavyKaujzKhEJCfMoAiiA2LF5gOlqBJbQQX2nA28NDJuanVc9Bq7JKEOm4vjUUN3iErwf8mwgSiP2Ku8/TmRrgJpcB2BRHZgu4FnLk96lg3uXp7jTF950MJKvGHlkJbQ0tJ7jqlAYS5FhdcESz2dMB12YAdpTiyLT0AU3tkB9Fd7kkno8C7YBkDraZ2iGC4QOIDJAV8XczHdFl4nuqJw5xmEdGNOBK6/mvbD4YrnA9i1jKr2wmjmKPXLvojWym/W8s+Te7Q7nT+H87Q/NhA5A+Gg2XfTvBNM6fFdpdCgY08HUuHvUXBdHVmHjoDbHxyFhtQ3F5INgHtAU+xnBOpjxWpAPhxyCgcxArzLG24OBzMgPLayMih994KmWoURbmg4Zu4mkUBDpVAE8kAM0KHyaFwUhD2dsoAAe1TkKsIUm6GVov2IMbakO9CKE1tRCFrzTAUWBbfuuihSHFjqYzHYV6AUOA2EYjDynEvqh6vcY0kyXFsEU14ZRFEIKPOul5iMa5E3A/T6PHbe6XK0tCHpOsNaziuNxFOVxgSrCAy0fTriOp6gWD5sQYAgro+pEHh8PQUf1ebl0p/CO7KWtIJtpJA+9eFjNipQiNAS459l8aWlrPR4c7xe65eqK6vJR0k08ADBXRKXC6Su31UkZMC2dR5EABF6hjkoDQgEVRwkJIONl1raiiIcb+YBJpAlqKtFqjOuADdEXJpovEzNgxJyoSlUxENPNQBsLlXKVJg1AcUzv9nSlhoOLYa7u/Fb0m2vZxl1/9fm6JxQ/IEfOePORoy4y5Xn30U9EB0MrF649ER2wU9IMPw0dXL9ssPokdGB3TgIuzBPQQbcl3P9+/DpAKuP296PXAZcInsZ47Dq4fum7oLrQ4NHqQGLxyaaDp6MkWfZMqnC5UnSI49FKZ7TMig39zlQ68GxVfrD7Yb786ONPPs2XP/zsw08//dHnex9/8WzjHc++ePFJseHg+aK5Z0KCH/+kVZovX7/4Kl/+dPdnX52dnbU+2n3dah2c7e3tfnkwnvDnq0udfj3Ml8O980Lx7KJjUpb+4nw4ka6TpiudX5VhZbJ+McL55a/ik8vr/e3D/f3D7e397V//5vKydXCyWbBwBS0I9iTO9MmzD0ebB1dvDk+fndyUlzzf3Dw7eHZ5er2Tc/hG1qVykC/zbJJ0eN7a+e3+1T198ljKpQqIVT6GHEeKDif721cnEs6zOCaVfDdAhg6n+5vlT7IUkoKnMSTosHMqIR9LgT3pj5CV1uFo56ruyUom1UIWlNXheHtDTkYWRsrwcoaSOpxsn0nKyKKYZWee5lNOh5PD2i2kzOBpjFI6kNplKJ7Or4BSOly36jWRRJUbPI1RRofWqewhw/sxlDkPnUuihA4n+zID5fuBXoVzJavrcFyzccBRlQ+wra7DTr0ek1VlIQtW1uHsqk7jQOxSdy/vZ2UdduocYBpOuaeG72dVHU6uazSSMJIcPHXiqZnTlXXYOasvdMCR7DMO29lU9lfU4ey0vuZQgYUcxkk62SJW1OG6NutASgVPcdaex8XF4DybSLiaDsc7dcUORlRF8DSMSTI537+aDq2NmpwmDCr58eIwyaZuc6ymw5uaugWq6KHLYXv6bs9KOtRlJa3ywdPMj9fyrzNuczUd6omhdBnBU9IfLUUL6HSSNE7n3gheRYeTWpqDIePB9E5++3t0Dzxtp4N2HMedZBgPJNiH0zpiKCjFNPD6b2dJP8sSXu406yQxSJM0BX0J9oHU4TSZnBgy6SfZkLcCXniQpkmWkA7fwHdM3xZfQYc6nCaVNjcf9xNR6jjma9mwf9GPkwGXJosnk62gQ/VWkkgNnjr9wXS0MMvyOlRvJY1Q6swTt5JJBTpstCruFq7s4Ck9z2bihWmW16HqblHd3Px7r7qsDsfX1XoL52F+5ri0DpfPquwWpIZf9c1ORoHlddisNHgwQ6mniwe3hiEt4us44bF1X8zBTKmxpA5HlVoHJtlCJjx84uVNLlKQXWT9JB4OkiSLh8O03R+cT4wzltShdVmh01Rkz82nvKyD1+0kGwwHg3hwkZIkuxjEQgoebJfR4U2FvSKQPvM0zONpEMfDZJgk/Q6JB/0440PObJCAeDjeMZbToUojKTd4yuH9YpC1k5gXO46T9oAbhzlTDzlL6VDhtCSWayELOnmZO2kyHN6XdCkdrg+qGnCrFTz6dUOS3EzGvC8DS+jQqmxk4VcaPKX3h9XL6HBcmZEMH/6VCEvo8KaiXmHMfcFYzSyuw05F0y+oCgu5NIvqsLlf0TNhyoMML2dYUIfWYUVPvwQ1vBZiERbS4fi6qqcduuvy0q4FdDi+3K6oT8B1sJAF9+lADna2LysKpit+9Gsp3qfD8cHV4fZpZQNtv7qnQpdnpEOSHI1vJSetq/3fHZ4eVDjKnjvz1InnbKwDlv/A5+r3f/ho43LjkrNxdb2zv3O6cTYjQWdQPpNfpxDj3TaEcC8zMO4k/Os4u68NLIH3P1ZmqFSZQot8jX/+8Ztv/vTnv/z1b99++/nf//HPf73d+7etWdl/tImk/919O334soDdF6r9du8zNfrf3q6taS92qTZBvrU873fGxIAz2Exs1I+OjkB7LyOd872+Ds53B5i0986H4weY6ets9vjlAOI2c3wBLKW409r+rHQLk8SYneyICZo4Fi5SDNw7g7SqUfa6BE8FeS96iN/799bqhe2GLf7jQv06mGv2pl5VvEawfh1kz82XhlHx3tG6dVir4GmMmnUI1/U/V9Ssw1q+p1DwaN8PI5lGh4JGh4JGhwKr0SHnniFqQ0NDQ0NDQ0NDQ0NDQ0NDQ0NDQ0NDQ0NDw3eC/wPsCssbXRpEHQAAAABJRU5ErkJggg==)"
      ],
      "metadata": {
        "id": "aDl7Zvu8X1G4"
      }
    },
    {
      "cell_type": "markdown",
      "source": [
        "오즈비: 사건이 발생할 확률이 발생하지 않을 확률에 비해 몇 배나 높은지를 의미\n",
        "1. 선형 회귀분석과 같이 p-값 확인\n",
        "2. 오즈비를 구해 각 독립변수가 종속변수를 1로 만들 확률을 비교"
      ],
      "metadata": {
        "id": "1NV9hSNYYZ2P"
      }
    },
    {
      "cell_type": "code",
      "execution_count": null,
      "metadata": {
        "colab": {
          "base_uri": "https://localhost:8080/"
        },
        "id": "XrJEKphoL0M9",
        "outputId": "189b08ff-d2be-4f16-a8f1-3d5132accc3a"
      },
      "outputs": [
        {
          "output_type": "stream",
          "name": "stdout",
          "text": [
            "Optimization terminated successfully.\n",
            "         Current function value: 0.430873\n",
            "         Iterations 7\n",
            "                           Logit Regression Results                           \n",
            "==============================================================================\n",
            "Dep. Variable:                  sales   No. Observations:                   17\n",
            "Model:                          Logit   Df Residuals:                       15\n",
            "Method:                           MLE   Df Model:                            1\n",
            "Date:                Thu, 28 Nov 2024   Pseudo R-squ.:                  0.3768\n",
            "Time:                        01:33:05   Log-Likelihood:                -7.3248\n",
            "converged:                       True   LL-Null:                       -11.754\n",
            "Covariance Type:            nonrobust   LLR p-value:                  0.002917\n",
            "==============================================================================\n",
            "                 coef    std err          z      P>|z|      [0.025      0.975]\n",
            "------------------------------------------------------------------------------\n",
            "Intercept      6.5752      3.300      1.993      0.046       0.108      13.042\n",
            "price         -0.0016      0.001     -2.008      0.045      -0.003   -3.75e-05\n",
            "==============================================================================\n",
            "OR\n",
            "Intercept    717.058841\n",
            "price          0.998433\n",
            "dtype: float64\n"
          ]
        }
      ],
      "source": [
        "import statsmodels.api as sm\n",
        "import pandas as pd\n",
        "import numpy as np\n",
        "\n",
        "sales = [1,1,1,1,1,1,1,1,1,0,0,0,0,0,0,0,0]\n",
        "price = [1500,2000,5000,3000,3500,2500,4000,4500,3000,4500,4000,4500,5500,6500,5000,3500,7000]\n",
        "data = {'sales':sales, 'price':price}\n",
        "df = pd.DataFrame(data)\n",
        "\n",
        "logis = sm.Logit.from_formula('sales ~ price', data=df).fit()\n",
        "print(logis.summary())\n",
        "print('OR')\n",
        "print(np.exp(logis.params))"
      ]
    },
    {
      "cell_type": "markdown",
      "source": [
        "- p-값: 독립변수 price 0.04로 유의한 변수 (0.05 미만)\n",
        "- y절편 intercept p-값도 0.046\n",
        "- 변수 price의 오즈비 0.998433이므로 가격을 올렸을 때 판매될 가능성이 판매되지 않을 가능성의 0.998433배\n",
        "- 따라서 가격을 내려야 판매 가능성이 조금이라도 높아진다는 결론"
      ],
      "metadata": {
        "id": "qqpvmMZHZuKQ"
      }
    },
    {
      "cell_type": "code",
      "source": [
        "import statsmodels.api as sm\n",
        "import pandas as pd\n",
        "import numpy as np\n",
        "\n",
        "data2 = {\n",
        "    'study_time' : [2,3,5,6,7,8,1,4,9,10],\n",
        "    'pass_prob' : [0,0,0,1,1,1,0,0,1,1]\n",
        "}\n",
        "\n",
        "df = pd.DataFrame(data2)\n",
        "\n",
        "logis = sm.Logit.from_formula('pass_prob ~ study_time', data=df).fit()\n",
        "print(logis.summary())\n",
        "predicted_prob = logis.predict(pd.DataFrame({'study_time':[6]}))\n",
        "print('공부 시간이 6시간일 때 합격할 확률', predicted_prob[0])\n",
        "print()"
      ],
      "metadata": {
        "colab": {
          "base_uri": "https://localhost:8080/"
        },
        "id": "gsGODZqVcFau",
        "outputId": "d9a14aa6-3ae3-4e15-c2a7-516a9662f247"
      },
      "execution_count": null,
      "outputs": [
        {
          "output_type": "stream",
          "name": "stdout",
          "text": [
            "Warning: Maximum number of iterations has been exceeded.\n",
            "         Current function value: 0.000000\n",
            "         Iterations: 35\n",
            "                           Logit Regression Results                           \n",
            "==============================================================================\n",
            "Dep. Variable:              pass_prob   No. Observations:                   10\n",
            "Model:                          Logit   Df Residuals:                        8\n",
            "Method:                           MLE   Df Model:                            1\n",
            "Date:                Thu, 28 Nov 2024   Pseudo R-squ.:                   1.000\n",
            "Time:                        01:50:51   Log-Likelihood:            -3.5527e-15\n",
            "converged:                      False   LL-Null:                       -6.9315\n",
            "Covariance Type:            nonrobust   LLR p-value:                 0.0001966\n",
            "==============================================================================\n",
            "                 coef    std err          z      P>|z|      [0.025      0.975]\n",
            "------------------------------------------------------------------------------\n",
            "Intercept   -395.9301   1.21e+09  -3.26e-07      1.000   -2.38e+09    2.38e+09\n",
            "study_time    71.5368   2.03e+08   3.53e-07      1.000   -3.97e+08    3.97e+08\n",
            "==============================================================================\n",
            "\n",
            "Complete Separation: The results show that there iscomplete separation or perfect prediction.\n",
            "In this case the Maximum Likelihood Estimator does not exist and the parameters\n",
            "are not identified.\n",
            "공부 시간이 6시간일 때 합격할 확률 0.9999999999999964\n",
            "\n"
          ]
        },
        {
          "output_type": "stream",
          "name": "stderr",
          "text": [
            "/usr/local/lib/python3.10/dist-packages/statsmodels/discrete/discrete_model.py:227: PerfectSeparationWarning: Perfect separation or prediction detected, parameter may not be identified\n",
            "  warnings.warn(msg, category=PerfectSeparationWarning)\n",
            "/usr/local/lib/python3.10/dist-packages/statsmodels/discrete/discrete_model.py:227: PerfectSeparationWarning: Perfect separation or prediction detected, parameter may not be identified\n",
            "  warnings.warn(msg, category=PerfectSeparationWarning)\n",
            "/usr/local/lib/python3.10/dist-packages/statsmodels/discrete/discrete_model.py:227: PerfectSeparationWarning: Perfect separation or prediction detected, parameter may not be identified\n",
            "  warnings.warn(msg, category=PerfectSeparationWarning)\n",
            "/usr/local/lib/python3.10/dist-packages/statsmodels/discrete/discrete_model.py:227: PerfectSeparationWarning: Perfect separation or prediction detected, parameter may not be identified\n",
            "  warnings.warn(msg, category=PerfectSeparationWarning)\n",
            "/usr/local/lib/python3.10/dist-packages/statsmodels/discrete/discrete_model.py:227: PerfectSeparationWarning: Perfect separation or prediction detected, parameter may not be identified\n",
            "  warnings.warn(msg, category=PerfectSeparationWarning)\n",
            "/usr/local/lib/python3.10/dist-packages/statsmodels/discrete/discrete_model.py:227: PerfectSeparationWarning: Perfect separation or prediction detected, parameter may not be identified\n",
            "  warnings.warn(msg, category=PerfectSeparationWarning)\n",
            "/usr/local/lib/python3.10/dist-packages/statsmodels/discrete/discrete_model.py:227: PerfectSeparationWarning: Perfect separation or prediction detected, parameter may not be identified\n",
            "  warnings.warn(msg, category=PerfectSeparationWarning)\n",
            "/usr/local/lib/python3.10/dist-packages/statsmodels/discrete/discrete_model.py:227: PerfectSeparationWarning: Perfect separation or prediction detected, parameter may not be identified\n",
            "  warnings.warn(msg, category=PerfectSeparationWarning)\n",
            "/usr/local/lib/python3.10/dist-packages/statsmodels/discrete/discrete_model.py:227: PerfectSeparationWarning: Perfect separation or prediction detected, parameter may not be identified\n",
            "  warnings.warn(msg, category=PerfectSeparationWarning)\n",
            "/usr/local/lib/python3.10/dist-packages/statsmodels/discrete/discrete_model.py:227: PerfectSeparationWarning: Perfect separation or prediction detected, parameter may not be identified\n",
            "  warnings.warn(msg, category=PerfectSeparationWarning)\n",
            "/usr/local/lib/python3.10/dist-packages/statsmodels/discrete/discrete_model.py:227: PerfectSeparationWarning: Perfect separation or prediction detected, parameter may not be identified\n",
            "  warnings.warn(msg, category=PerfectSeparationWarning)\n",
            "/usr/local/lib/python3.10/dist-packages/statsmodels/discrete/discrete_model.py:227: PerfectSeparationWarning: Perfect separation or prediction detected, parameter may not be identified\n",
            "  warnings.warn(msg, category=PerfectSeparationWarning)\n",
            "/usr/local/lib/python3.10/dist-packages/statsmodels/discrete/discrete_model.py:227: PerfectSeparationWarning: Perfect separation or prediction detected, parameter may not be identified\n",
            "  warnings.warn(msg, category=PerfectSeparationWarning)\n",
            "/usr/local/lib/python3.10/dist-packages/statsmodels/discrete/discrete_model.py:227: PerfectSeparationWarning: Perfect separation or prediction detected, parameter may not be identified\n",
            "  warnings.warn(msg, category=PerfectSeparationWarning)\n",
            "/usr/local/lib/python3.10/dist-packages/statsmodels/discrete/discrete_model.py:227: PerfectSeparationWarning: Perfect separation or prediction detected, parameter may not be identified\n",
            "  warnings.warn(msg, category=PerfectSeparationWarning)\n",
            "/usr/local/lib/python3.10/dist-packages/statsmodels/discrete/discrete_model.py:227: PerfectSeparationWarning: Perfect separation or prediction detected, parameter may not be identified\n",
            "  warnings.warn(msg, category=PerfectSeparationWarning)\n",
            "/usr/local/lib/python3.10/dist-packages/statsmodels/base/model.py:607: ConvergenceWarning: Maximum Likelihood optimization failed to converge. Check mle_retvals\n",
            "  warnings.warn(\"Maximum Likelihood optimization failed to \"\n"
          ]
        }
      ]
    },
    {
      "cell_type": "markdown",
      "source": [
        "이 경고는 로지스틱 회귀 모델이 최적의 해를 찾기 위해 설정된 최대 반복 횟수 내에서 수렴하지 못했음을 의미합니다."
      ],
      "metadata": {
        "id": "s3u0SFRqeXdG"
      }
    },
    {
      "cell_type": "markdown",
      "source": [
        "\n",
        "\n",
        "---\n",
        "\n"
      ],
      "metadata": {
        "id": "2DPnKnwfeB7O"
      }
    },
    {
      "cell_type": "code",
      "source": [
        "import seaborn as sns\n",
        "\n",
        "titanic = sns.load_dataset('titanic')\n",
        "print(titanic)"
      ],
      "metadata": {
        "colab": {
          "base_uri": "https://localhost:8080/"
        },
        "id": "Q0IgNRGZeAu-",
        "outputId": "2dc45b09-521e-470f-fa21-06c4b9ee813b"
      },
      "execution_count": null,
      "outputs": [
        {
          "output_type": "stream",
          "name": "stdout",
          "text": [
            "     survived  pclass     sex   age  sibsp  parch     fare embarked   class  \\\n",
            "0           0       3    male  22.0      1      0   7.2500        S   Third   \n",
            "1           1       1  female  38.0      1      0  71.2833        C   First   \n",
            "2           1       3  female  26.0      0      0   7.9250        S   Third   \n",
            "3           1       1  female  35.0      1      0  53.1000        S   First   \n",
            "4           0       3    male  35.0      0      0   8.0500        S   Third   \n",
            "..        ...     ...     ...   ...    ...    ...      ...      ...     ...   \n",
            "886         0       2    male  27.0      0      0  13.0000        S  Second   \n",
            "887         1       1  female  19.0      0      0  30.0000        S   First   \n",
            "888         0       3  female   NaN      1      2  23.4500        S   Third   \n",
            "889         1       1    male  26.0      0      0  30.0000        C   First   \n",
            "890         0       3    male  32.0      0      0   7.7500        Q   Third   \n",
            "\n",
            "       who  adult_male deck  embark_town alive  alone  \n",
            "0      man        True  NaN  Southampton    no  False  \n",
            "1    woman       False    C    Cherbourg   yes  False  \n",
            "2    woman       False  NaN  Southampton   yes   True  \n",
            "3    woman       False    C  Southampton   yes  False  \n",
            "4      man        True  NaN  Southampton    no   True  \n",
            "..     ...         ...  ...          ...   ...    ...  \n",
            "886    man        True  NaN  Southampton    no   True  \n",
            "887  woman       False    B  Southampton   yes   True  \n",
            "888  woman       False  NaN  Southampton    no  False  \n",
            "889    man        True    C    Cherbourg   yes   True  \n",
            "890    man        True  NaN   Queenstown    no   True  \n",
            "\n",
            "[891 rows x 15 columns]\n"
          ]
        }
      ]
    },
    {
      "cell_type": "markdown",
      "source": [
        "타이타닉 탑승자 데이터의 로지스틱 회귀분석"
      ],
      "metadata": {
        "id": "_Lkwi9gFefPN"
      }
    },
    {
      "cell_type": "code",
      "source": [
        "import statsmodels.api as sm\n",
        "import numpy as np\n",
        "from sklearn.preprocessing import LabelEncoder #사이킷런\n",
        "\n",
        "encoder = LabelEncoder()\n",
        "encoder.fit(titanic['sex'])\n",
        "sex = encoder.transform(titanic['sex'])\n",
        "titanic['sex'] = sex\n",
        "\n",
        "model = sm.Logit.from_formula('survived ~ pclass + sex + age + sibsp + parch + fare', data=titanic)\n",
        "logit = model.fit()\n",
        "print(logit.summary())\n",
        "\n",
        "\n",
        "print(\"OR\")\n",
        "print(np.exp(logit.params))"
      ],
      "metadata": {
        "colab": {
          "base_uri": "https://localhost:8080/"
        },
        "id": "nDoyQn1Reh5m",
        "outputId": "25d2b3bf-47e0-4abd-f400-d9a433af2337"
      },
      "execution_count": null,
      "outputs": [
        {
          "output_type": "stream",
          "name": "stdout",
          "text": [
            "Optimization terminated successfully.\n",
            "         Current function value: 0.445244\n",
            "         Iterations 6\n",
            "                           Logit Regression Results                           \n",
            "==============================================================================\n",
            "Dep. Variable:               survived   No. Observations:                  714\n",
            "Model:                          Logit   Df Residuals:                      707\n",
            "Method:                           MLE   Df Model:                            6\n",
            "Date:                Thu, 28 Nov 2024   Pseudo R-squ.:                  0.3408\n",
            "Time:                        02:04:07   Log-Likelihood:                -317.90\n",
            "converged:                       True   LL-Null:                       -482.26\n",
            "Covariance Type:            nonrobust   LLR p-value:                 5.727e-68\n",
            "==============================================================================\n",
            "                 coef    std err          z      P>|z|      [0.025      0.975]\n",
            "------------------------------------------------------------------------------\n",
            "Intercept      5.3890      0.604      8.926      0.000       4.206       6.572\n",
            "pclass        -1.2422      0.163     -7.612      0.000      -1.562      -0.922\n",
            "sex           -2.6348      0.220    -11.998      0.000      -3.065      -2.204\n",
            "age           -0.0440      0.008     -5.374      0.000      -0.060      -0.028\n",
            "sibsp         -0.3758      0.127     -2.950      0.003      -0.625      -0.126\n",
            "parch         -0.0619      0.123     -0.504      0.614      -0.303       0.179\n",
            "fare           0.0022      0.002      0.866      0.386      -0.003       0.007\n",
            "==============================================================================\n",
            "OR\n",
            "Intercept    218.984972\n",
            "pclass         0.288734\n",
            "sex            0.071730\n",
            "age            0.956999\n",
            "sibsp          0.686771\n",
            "parch          0.939942\n",
            "fare           1.002162\n",
            "dtype: float64\n"
          ]
        }
      ]
    },
    {
      "cell_type": "markdown",
      "source": [
        "- 독립변수 중 p값이 0.05 미만 pclass, sex, age, sibsp\n",
        "- 변수의 게수가 모두 음수이므로 독립변수의 값이 증가할 때 생존 가능성이 낮은 것으로 판단\n",
        "1. 탑승 클래스의 숫자가 높을수록 생존율 낮음\n",
        "2. 나이가 많을수록 생존율 낮음\n",
        "3. 자녀나 배우자의 수가 많을수록 생존율 낮음\n",
        "4. 유의한 독립변수 중 age의 오즈비가 가장 큼, sex의 오즈비가 가장 작음\n",
        "5. 남성의 생존화귤ㄹ이 여서으이 0.07배로 매우 작음"
      ],
      "metadata": {
        "id": "rWe26ZvRf9hM"
      }
    }
  ]
}