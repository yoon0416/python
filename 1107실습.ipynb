{
  "nbformat": 4,
  "nbformat_minor": 0,
  "metadata": {
    "colab": {
      "provenance": [],
      "authorship_tag": "ABX9TyOv3Y4PUcko0yu35WRivkdk",
      "include_colab_link": true
    },
    "kernelspec": {
      "name": "python3",
      "display_name": "Python 3"
    },
    "language_info": {
      "name": "python"
    }
  },
  "cells": [
    {
      "cell_type": "markdown",
      "metadata": {
        "id": "view-in-github",
        "colab_type": "text"
      },
      "source": [
        "<a href=\"https://colab.research.google.com/github/yoon0416/python/blob/main/1107%EC%8B%A4%EC%8A%B5.ipynb\" target=\"_parent\"><img src=\"https://colab.research.google.com/assets/colab-badge.svg\" alt=\"Open In Colab\"/></a>"
      ]
    },
    {
      "cell_type": "markdown",
      "source": [
        "# **상관관계 분석**\n",
        "- 두 변수 사이 관계의 강도와 방향을 파악하는 통계 기법\n",
        "- 상관관계의 강도를 나타낸 수치를 상관계수\n",
        "- 변수 x와 y가 있을 때 두 변수의 상관관게는 다음 세 가지 중 하나\n",
        "1.양의 상관관계: 변수 x가 커질수록 y도 커진다\n",
        "\n",
        "2.음의 상관관계: 변수 x가 커질수록 y는 작아진다\n",
        "\n",
        "3.상관관계 없음: 변수 x가 커질 때 변수 y도 커질수도, 작아질 수도 있다."
      ],
      "metadata": {
        "id": "jEETrDNbTMa2"
      }
    },
    {
      "cell_type": "code",
      "execution_count": null,
      "metadata": {
        "colab": {
          "base_uri": "https://localhost:8080/"
        },
        "id": "6aQihZcvTI23",
        "outputId": "57d8b3b4-74b0-4a73-9ca9-6a737d02d13b"
      },
      "outputs": [
        {
          "output_type": "stream",
          "name": "stdout",
          "text": [
            "              engListening  engScore\n",
            "engListening       1.00000   0.99405\n",
            "engScore           0.99405   1.00000\n"
          ]
        }
      ],
      "source": [
        "import pandas as pd\n",
        "\n",
        "#리스트에 데이터 삽입하기\n",
        "engListening = [30,60,90]\n",
        "engScore = [70,80,90]\n",
        "\n",
        "#리스트를 데이터프레임으로 변환\n",
        "data = {'engListening':engListening, 'engScore':engScore}\n",
        "df = pd.DataFrame(data)\n",
        "\n",
        "#상관분석 수행하기\n",
        "coef = df.corr(method = 'pearson')\n",
        "print(coef)"
      ]
    },
    {
      "cell_type": "code",
      "source": [
        "import matplotlib.pyplot as plt\n",
        "\n",
        "#데이터 추가하기, 기말문제 표 그리기\n",
        "engListening = [30,60,90,31,32,69,92,99]\n",
        "engScore = [70,80,90,70,71,85,90,92]\n",
        "\n",
        "data2 = {'engListening':engListening, 'engScore':engScore}\n",
        "df2 = pd.DataFrame(data2)\n",
        "\n",
        "#산점도 그리기\n",
        "plt.scatter(df2['engListening'], df2['engScore'])\n",
        "plt.show()"
      ],
      "metadata": {
        "colab": {
          "base_uri": "https://localhost:8080/",
          "height": 430
        },
        "id": "UhJO6cWgW9rI",
        "outputId": "6f0e60fb-6dc1-46c7-8289-174c4a775fb4"
      },
      "execution_count": null,
      "outputs": [
        {
          "output_type": "display_data",
          "data": {
            "text/plain": [
              "<Figure size 640x480 with 1 Axes>"
            ],
            "image/png": "[encoded data removed]"
          },
          "metadata": {}
        }
      ]
    },
    {
      "cell_type": "code",
      "source": [
        "coef = df2.corr(method = 'pearson')\n",
        "print(coef)"
      ],
      "metadata": {
        "colab": {
          "base_uri": "https://localhost:8080/"
        },
        "id": "rZS1vyFdXtyI",
        "outputId": "15002c0d-7922-4e1c-a4cd-0c5c7d31dcca"
      },
      "execution_count": null,
      "outputs": [
        {
          "output_type": "stream",
          "name": "stdout",
          "text": [
            "              engListening  engScore\n",
            "engListening      1.000000  0.995829\n",
            "engScore          0.995829  1.000000\n"
          ]
        }
      ]
    },
    {
      "cell_type": "code",
      "source": [
        "#스피어만 상관분석\n",
        "spearmanCoef = df2.corr(method = 'spearman')\n",
        "print(spearmanCoef)\n",
        "\n",
        "#캔달 삳관분석\n",
        "kendallCoef = df2.corr(method = 'kendall')\n",
        "print(kendallCoef)"
      ],
      "metadata": {
        "colab": {
          "base_uri": "https://localhost:8080/"
        },
        "id": "6xTeAV5obGKB",
        "outputId": "e029f6dd-80c3-44c4-ca49-11b33e0ceba3"
      },
      "execution_count": null,
      "outputs": [
        {
          "output_type": "stream",
          "name": "stdout",
          "text": [
            "              engListening  engScore\n",
            "engListening      1.000000  0.988024\n",
            "engScore          0.988024  1.000000\n",
            "              engListening  engScore\n",
            "engListening      1.000000  0.963624\n",
            "engScore          0.963624  1.000000\n"
          ]
        }
      ]
    },
    {
      "cell_type": "code",
      "source": [
        "#데이터 추가\n",
        "engListening = [30, 60, 90, 31, 32, 69, 92, 99]\n",
        "engReading = [40,45,60,20,15,70,60,80]\n",
        "engClass = [60,120,120,60,60,180,120,120]\n",
        "engScore = [70,80,90,70,71,85,90,92]\n",
        "\n",
        "data3 = {'engListening':engListening, 'engReading':engReading, 'engClass':engClass, 'engScore':engScore}\n",
        "df3 = pd.DataFrame(data3)\n",
        "print(df3)"
      ],
      "metadata": {
        "colab": {
          "base_uri": "https://localhost:8080/"
        },
        "id": "B59QGT-kcgtp",
        "outputId": "b94e414a-81ef-47e0-b079-65315d378cfa"
      },
      "execution_count": null,
      "outputs": [
        {
          "output_type": "stream",
          "name": "stdout",
          "text": [
            "   engListening  engReading  engClass  engScore\n",
            "0            30          40        60        70\n",
            "1            60          45       120        80\n",
            "2            90          60       120        90\n",
            "3            31          20        60        70\n",
            "4            32          15        60        71\n",
            "5            69          70       180        85\n",
            "6            92          60       120        90\n",
            "7            99          80       120        92\n"
          ]
        }
      ]
    },
    {
      "cell_type": "code",
      "source": [
        "#피어슨 상관분석\n",
        "pearsonCoef = df3.corr(method = 'pearson')\n",
        "print(pearsonCoef)\n",
        "print()\n",
        "\n",
        "spearmanCoef = df3.corr(method = 'spearman')\n",
        "print(spearmanCoef)\n",
        "print()\n",
        "\n",
        "kendallCoef = df3.corr(method = 'kendall')\n",
        "print(kendallCoef)"
      ],
      "metadata": {
        "colab": {
          "base_uri": "https://localhost:8080/"
        },
        "id": "dmpPsIwRdfaS",
        "outputId": "fec62d69-b0f0-46c5-b6c6-70ed7ee90361"
      },
      "execution_count": null,
      "outputs": [
        {
          "output_type": "stream",
          "name": "stdout",
          "text": [
            "              engListening  engReading  engClass  engScore\n",
            "engListening      1.000000    0.877201  0.703028  0.995829\n",
            "engReading        0.877201    1.000000  0.808755  0.894111\n",
            "engClass          0.703028    0.808755  1.000000  0.759453\n",
            "engScore          0.995829    0.894111  0.759453  1.000000\n",
            "\n",
            "              engListening  engReading  engClass  engScore\n",
            "engListening      1.000000    0.826362  0.717256  0.988024\n",
            "engReading        0.826362    1.000000  0.852757  0.848500\n",
            "engClass          0.717256    0.852757  1.000000  0.725950\n",
            "engScore          0.988024    0.848500  0.725950  1.000000\n",
            "\n",
            "              engListening  engReading  engClass  engScore\n",
            "engListening      1.000000    0.618284  0.563621  0.963624\n",
            "engReading        0.618284    1.000000  0.750568  0.679366\n",
            "engClass          0.563621    0.750568  1.000000  0.584898\n",
            "engScore          0.963624    0.679366  0.584898  1.000000\n"
          ]
        }
      ]
    },
    {
      "cell_type": "markdown",
      "source": [
        "상관관계 분석에서 사용하는 상관관계계수 문제 나옴.\n",
        "\n",
        "양의, 음의,\n"
      ],
      "metadata": {
        "id": "Z-sWneTaSkOk"
      }
    }
  ]
}