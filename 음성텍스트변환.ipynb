{
 "cells": [
  {
   "cell_type": "code",
   "execution_count": 1,
   "id": "ade3fd17-6099-4675-904f-48a7c9e6af23",
   "metadata": {},
   "outputs": [
    {
     "name": "stdout",
     "output_type": "stream",
     "text": [
      "Collecting speechrecognition\n",
      "  Downloading SpeechRecognition-3.10.1-py2.py3-none-any.whl.metadata (28 kB)\n",
      "Collecting pydub\n",
      "  Downloading pydub-0.25.1-py2.py3-none-any.whl.metadata (1.4 kB)\n",
      "Requirement already satisfied: requests>=2.26.0 in d:\\anaconda\\lib\\site-packages (from speechrecognition) (2.31.0)\n",
      "Requirement already satisfied: typing-extensions in d:\\anaconda\\lib\\site-packages (from speechrecognition) (4.9.0)\n",
      "Requirement already satisfied: charset-normalizer<4,>=2 in d:\\anaconda\\lib\\site-packages (from requests>=2.26.0->speechrecognition) (2.0.4)\n",
      "Requirement already satisfied: idna<4,>=2.5 in d:\\anaconda\\lib\\site-packages (from requests>=2.26.0->speechrecognition) (3.4)\n",
      "Requirement already satisfied: urllib3<3,>=1.21.1 in d:\\anaconda\\lib\\site-packages (from requests>=2.26.0->speechrecognition) (2.0.7)\n",
      "Requirement already satisfied: certifi>=2017.4.17 in d:\\anaconda\\lib\\site-packages (from requests>=2.26.0->speechrecognition) (2024.2.2)\n",
      "Downloading SpeechRecognition-3.10.1-py2.py3-none-any.whl (32.8 MB)\n",
      "   ---------------------------------------- 0.0/32.8 MB ? eta -:--:--\n",
      "   - -------------------------------------- 1.2/32.8 MB 35.8 MB/s eta 0:00:01\n",
      "   ---- ----------------------------------- 4.0/32.8 MB 41.9 MB/s eta 0:00:01\n",
      "   -------- ------------------------------- 6.8/32.8 MB 54.2 MB/s eta 0:00:01\n",
      "   ----------- ---------------------------- 9.6/32.8 MB 55.8 MB/s eta 0:00:01\n",
      "   --------------- ------------------------ 12.4/32.8 MB 59.5 MB/s eta 0:00:01\n",
      "   ------------------ --------------------- 15.3/32.8 MB 59.5 MB/s eta 0:00:01\n",
      "   ---------------------- ----------------- 18.1/32.8 MB 59.8 MB/s eta 0:00:01\n",
      "   ------------------------- -------------- 20.7/32.8 MB 59.5 MB/s eta 0:00:01\n",
      "   ---------------------------- ----------- 23.7/32.8 MB 59.5 MB/s eta 0:00:01\n",
      "   -------------------------------- ------- 26.5/32.8 MB 59.5 MB/s eta 0:00:01\n",
      "   ----------------------------------- ---- 29.3/32.8 MB 59.5 MB/s eta 0:00:01\n",
      "   ---------------------------------------  32.1/32.8 MB 59.5 MB/s eta 0:00:01\n",
      "   ---------------------------------------  32.8/32.8 MB 54.7 MB/s eta 0:00:01\n",
      "   ---------------------------------------- 32.8/32.8 MB 43.7 MB/s eta 0:00:00\n",
      "Downloading pydub-0.25.1-py2.py3-none-any.whl (32 kB)\n",
      "Installing collected packages: pydub, speechrecognition\n",
      "Successfully installed pydub-0.25.1 speechrecognition-3.10.1\n"
     ]
    }
   ],
   "source": [
    "!pip install speechrecognition pydub"
   ]
  },
  {
   "cell_type": "code",
   "execution_count": null,
   "id": "502938a1-e79e-4a15-b23c-7f4a0ffb1334",
   "metadata": {},
   "outputs": [],
   "source": [
    "from pydub import AudioSegment\n",
    "import speech_recognition as sr\n",
    "\n",
    "# MP3 또는 MP4 파일을 WAV 형식으로 변환\n",
    "audio_file = \"your_audio_file.mp3\"  # 이 부분에 파일 경로를 입력하세요.\n",
    "audio = AudioSegment.from_mp3(audio_file)\n",
    "audio.export(\"converted.wav\", format=\"wav\")"
   ]
  },
  {
   "cell_type": "code",
   "execution_count": null,
   "id": "ab7a60ce-0900-4823-af9e-557058a9c728",
   "metadata": {},
   "outputs": [],
   "source": [
    "# 음성 인식 객체 생성\n",
    "r = sr.Recognizer()\n",
    "\n",
    "with sr.AudioFile(\"converted.wav\") as source:\n",
    "    # 오디오 파일 읽기\n",
    "    audio_data = r.record(source)\n",
    "    # Google 음성 인식을 사용하여 오디오를 텍스트로 변환\n",
    "    text = r.recognize_google(audio_data, language='ko-KR')  # 한국어 인식을 위해 language 설정\n",
    "    print(text)\n"
   ]
  }
 ],
 "metadata": {
  "kernelspec": {
   "display_name": "Python 3 (ipykernel)",
   "language": "python",
   "name": "python3"
  },
  "language_info": {
   "codemirror_mode": {
    "name": "ipython",
    "version": 3
   },
   "file_extension": ".py",
   "mimetype": "text/x-python",
   "name": "python",
   "nbconvert_exporter": "python",
   "pygments_lexer": "ipython3",
   "version": "3.11.7"
  }
 },
 "nbformat": 4,
 "nbformat_minor": 5
}
